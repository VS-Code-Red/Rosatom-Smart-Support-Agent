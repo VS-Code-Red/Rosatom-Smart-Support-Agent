{
 "cells": [
  {
   "cell_type": "code",
   "execution_count": 14,
   "id": "3bf3d230-a68e-487a-9160-0394ebf41110",
   "metadata": {},
   "outputs": [
    {
     "name": "stdout",
     "output_type": "stream",
     "text": [
      "Запрос: не работает vpn\n",
      "Категория: errors (78.76%)\n"
     ]
    }
   ],
   "source": [
    "import json\n",
    "from sklearn.base import BaseEstimator, TransformerMixin\n",
    "import joblib\n",
    "\n",
    "# Определяем класс препроцессора - обязательно скопировать из вашего обучающего скрипта\n",
    "class RuleBasedPreprocessor(BaseEstimator, TransformerMixin):\n",
    "    def __init__(self, rules_path='../data/rules/rules.json'):\n",
    "        with open(rules_path, 'r', encoding='utf-8') as f:\n",
    "            self.rules = json.load(f)\n",
    "    def fit(self, X, y=None):\n",
    "        return self\n",
    "    def transform(self, X):\n",
    "        def apply_rules(text):\n",
    "            tags = []\n",
    "            for cat, keywords in self.rules.items():\n",
    "                for kw in keywords:\n",
    "                    if kw.lower() in text.lower():\n",
    "                        tags.append(cat)\n",
    "            return text + ' ' + ' '.join(tags)\n",
    "        return [apply_rules(doc) for doc in X]\n",
    "\n",
    "# Загружаем Pipeline с моделью\n",
    "clf = joblib.load('../models/lightweight_clf.pkl')\n",
    "\n",
    "def process_query(text):\n",
    "    pred = clf.predict([text])[0]\n",
    "    probas = clf.predict_proba([text])[0]\n",
    "    conf = max(probas)\n",
    "    print(f\"Запрос: {text}\")\n",
    "    print(f\"Категория: {pred} ({conf:.2%})\")\n",
    "\n",
    "# Пример вызова\n",
    "process_query(\"не работает vpn\")\n"
   ]
  },
  {
   "cell_type": "code",
   "execution_count": null,
   "id": "bb6cdc97-2b04-4241-b80a-6598211796b1",
   "metadata": {},
   "outputs": [],
   "source": []
  }
 ],
 "metadata": {
  "kernelspec": {
   "display_name": "Python 3 (ipykernel)",
   "language": "python",
   "name": "python3"
  },
  "language_info": {
   "codemirror_mode": {
    "name": "ipython",
    "version": 3
   },
   "file_extension": ".py",
   "mimetype": "text/x-python",
   "name": "python",
   "nbconvert_exporter": "python",
   "pygments_lexer": "ipython3",
   "version": "3.13.0"
  }
 },
 "nbformat": 4,
 "nbformat_minor": 5
}
