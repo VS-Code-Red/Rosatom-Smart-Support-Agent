{
 "cells": [
  {
   "cell_type": "code",
   "execution_count": 2,
   "id": "d9ad4bfb-1141-4e85-a76c-8ecdf133e85c",
   "metadata": {},
   "outputs": [
    {
     "name": "stdout",
     "output_type": "stream",
     "text": [
      "Ответ 1: Добрый день!  \n",
      "Для предоставления доступа, пожалуйста, укажите систему, ваши данные (логин, email), а также необходимые уровни прав.  \n",
      "Если требуется восстановление доступа, уточните детали проблемы.\n",
      "...\n",
      "Ответ 2: Здравствуйте!  \n",
      "Получили ваше сообщение об ошибке. Рекомендуем сначала проверить базовые настройки и перезагрузить систему/приложение.  \n",
      "Если ошибка сохраняется, пожалуйста, пришлите полное сообщение ...\n",
      "Ответ 3: Здравствуйте!  \n",
      "Для помощи с программным обеспечением (например, 1С, SAP, Jenkins и др.) уточните, пожалуйста:  \n",
      "- Версию и конфигурацию ПО  \n",
      "- Точный характер проблемы (ошибка, настройка, обновление)...\n"
     ]
    }
   ],
   "source": [
    "from sentence_transformers import SentenceTransformer, util\n",
    "import os\n",
    "\n",
    "class SimpleRAGAgent:\n",
    "    def __init__(self, kb_folder='../data/knowledge_base/', embedding_model='paraphrase-multilingual-MiniLM-L12-v2'):\n",
    "        self.kb_folder = kb_folder\n",
    "        self.model = SentenceTransformer(embedding_model)\n",
    "        self.documents = []\n",
    "        self.embeddings = None\n",
    "        self.load_documents()\n",
    "    def load_documents(self):\n",
    "        files = [f for f in os.listdir(self.kb_folder) if f.endswith('.txt')]\n",
    "        self.documents = []\n",
    "        for fname in files:\n",
    "            with open(os.path.join(self.kb_folder, fname), 'r', encoding='utf-8') as f:\n",
    "                self.documents.append(f.read())\n",
    "        self.embeddings = self.model.encode(self.documents, convert_to_tensor=True)\n",
    "    def retrieve(self, query, top_k=3):\n",
    "        query_emb = self.model.encode(query, convert_to_tensor=True)\n",
    "        hits = util.semantic_search(query_emb, self.embeddings, top_k=top_k)[0]\n",
    "        return [self.documents[hit['corpus_id']] for hit in hits]\n",
    "\n",
    "# Пример использования\n",
    "rag_agent = SimpleRAGAgent()\n",
    "query = \"Как сбросить пароль?\"\n",
    "answers = rag_agent.retrieve(query)\n",
    "for i, ans in enumerate(answers, 1):\n",
    "    print(f\"Ответ {i}: {ans[:200]}...\")\n"
   ]
  },
  {
   "cell_type": "code",
   "execution_count": null,
   "id": "0e5785af-2eab-476e-86d5-9460d90b7147",
   "metadata": {},
   "outputs": [],
   "source": []
  }
 ],
 "metadata": {
  "kernelspec": {
   "display_name": "Python 3 (ipykernel)",
   "language": "python",
   "name": "python3"
  },
  "language_info": {
   "codemirror_mode": {
    "name": "ipython",
    "version": 3
   },
   "file_extension": ".py",
   "mimetype": "text/x-python",
   "name": "python",
   "nbconvert_exporter": "python",
   "pygments_lexer": "ipython3",
   "version": "3.13.0"
  }
 },
 "nbformat": 4,
 "nbformat_minor": 5
}
