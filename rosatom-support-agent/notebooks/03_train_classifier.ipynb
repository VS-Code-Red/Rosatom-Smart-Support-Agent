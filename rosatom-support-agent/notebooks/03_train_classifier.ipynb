{
 "cells": [
  {
   "cell_type": "code",
   "execution_count": 1,
   "id": "65780344-2d0a-4cd9-a5e0-8d1beeeac5f2",
   "metadata": {},
   "outputs": [
    {
     "name": "stdout",
     "output_type": "stream",
     "text": [
      "Обучение завершено. Модель сохранена.\n"
     ]
    }
   ],
   "source": [
    "import json\n",
    "import pandas as pd\n",
    "from sklearn.feature_extraction.text import TfidfVectorizer\n",
    "from sklearn.naive_bayes import MultinomialNB\n",
    "from sklearn.pipeline import Pipeline\n",
    "from sklearn.base import BaseEstimator, TransformerMixin\n",
    "import joblib\n",
    "\n",
    "class RuleBasedPreprocessor(BaseEstimator, TransformerMixin):\n",
    "    def __init__(self, rules_path='../data/rules/rules.json'):\n",
    "        with open(rules_path, 'r', encoding='utf-8') as f:\n",
    "            self.rules = json.load(f)\n",
    "    def fit(self, X, y=None):\n",
    "        return self\n",
    "    def transform(self, X):\n",
    "        def apply_rules(text):\n",
    "            tags = []\n",
    "            for cat, keywords in self.rules.items():\n",
    "                for kw in keywords:\n",
    "                    if kw.lower() in text.lower():\n",
    "                        tags.append(cat)\n",
    "            return text + ' ' + ' '.join(tags)\n",
    "        return [apply_rules(doc) for doc in X]\n",
    "\n",
    "class LightweightClassifier:\n",
    "    def __init__(self):\n",
    "        self.pipeline = Pipeline([\n",
    "            ('rules', RuleBasedPreprocessor()),\n",
    "            ('tfidf', TfidfVectorizer(max_features=500, ngram_range=(1,2))),\n",
    "            ('clf', MultinomialNB(alpha=0.1))\n",
    "        ])\n",
    "    def train(self, texts, labels):\n",
    "        self.pipeline.fit(texts, labels)\n",
    "    def predict(self, texts):\n",
    "        preds = self.pipeline.predict(texts)\n",
    "        probs = self.pipeline.predict_proba(texts)\n",
    "        confidences = probs.max(axis=1)\n",
    "        return list(zip(preds, confidences))\n",
    "    def save(self, path='../models/lightweight_clf.pkl'):\n",
    "        joblib.dump(self.pipeline, path)\n",
    "\n",
    "df = pd.read_csv('../data/processed/training_data.csv')\n",
    "clf = LightweightClassifier()\n",
    "clf.train(df['text_clean'], df['category'])\n",
    "clf.save()\n",
    "print(\"Обучение завершено. Модель сохранена.\")"
   ]
  },
  {
   "cell_type": "code",
   "execution_count": null,
   "id": "f744fce3-db66-4b3c-874b-e0a9934c1084",
   "metadata": {},
   "outputs": [],
   "source": []
  }
 ],
 "metadata": {
  "kernelspec": {
   "display_name": "Python 3 (ipykernel)",
   "language": "python",
   "name": "python3"
  },
  "language_info": {
   "codemirror_mode": {
    "name": "ipython",
    "version": 3
   },
   "file_extension": ".py",
   "mimetype": "text/x-python",
   "name": "python",
   "nbconvert_exporter": "python",
   "pygments_lexer": "ipython3",
   "version": "3.13.0"
  }
 },
 "nbformat": 4,
 "nbformat_minor": 5
}
