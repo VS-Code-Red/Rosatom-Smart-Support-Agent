{
 "cells": [
  {
   "cell_type": "code",
   "execution_count": 19,
   "id": "0730a1cb-5bb5-4126-81a6-af427501716f",
   "metadata": {},
   "outputs": [
    {
     "ename": "ModuleNotFoundError",
     "evalue": "No module named 'rag_agent'",
     "output_type": "error",
     "traceback": [
      "\u001b[1;31m---------------------------------------------------------------------------\u001b[0m",
      "\u001b[1;31mModuleNotFoundError\u001b[0m                       Traceback (most recent call last)",
      "Cell \u001b[1;32mIn[19], line 12\u001b[0m\n\u001b[0;32m      9\u001b[0m         \u001b[38;5;28;01mreturn\u001b[39;00m confidence \u001b[38;5;241m<\u001b[39m \u001b[38;5;28mself\u001b[39m\u001b[38;5;241m.\u001b[39mthreshold\n\u001b[0;32m     11\u001b[0m clf \u001b[38;5;241m=\u001b[39m joblib\u001b[38;5;241m.\u001b[39mload(\u001b[38;5;124m'\u001b[39m\u001b[38;5;124m../models/lightweight_clf.pkl\u001b[39m\u001b[38;5;124m'\u001b[39m)\n\u001b[1;32m---> 12\u001b[0m \u001b[38;5;28;01mfrom\u001b[39;00m \u001b[38;5;21;01mrag_agent\u001b[39;00m \u001b[38;5;28;01mimport\u001b[39;00m SimpleRAGAgent\n\u001b[0;32m     13\u001b[0m rag_agent \u001b[38;5;241m=\u001b[39m SimpleRAGAgent()\n\u001b[0;32m     15\u001b[0m text_input \u001b[38;5;241m=\u001b[39m widgets\u001b[38;5;241m.\u001b[39mTextarea(placeholder\u001b[38;5;241m=\u001b[39m\u001b[38;5;124m'\u001b[39m\u001b[38;5;124mОпишите вашу проблему\u001b[39m\u001b[38;5;124m'\u001b[39m)\n",
      "\u001b[1;31mModuleNotFoundError\u001b[0m: No module named 'rag_agent'"
     ]
    }
   ],
   "source": [
    "import ipywidgets as widgets\n",
    "from IPython.display import display, clear_output\n",
    "import joblib\n",
    "\n",
    "class EscalationAgent:\n",
    "    def __init__(self, threshold=0.6):\n",
    "        self.threshold = threshold\n",
    "    def decide(self, confidence):\n",
    "        return confidence < self.threshold\n",
    "\n",
    "clf = joblib.load('../models/lightweight_clf.pkl')\n",
    "from rag_agent import SimpleRAGAgent\n",
    "rag_agent = SimpleRAGAgent()\n",
    "\n",
    "text_input = widgets.Textarea(placeholder='Опишите вашу проблему')\n",
    "button = widgets.Button(description='Отправить')\n",
    "output = widgets.Output()\n",
    "esc_agent = EscalationAgent()\n",
    "\n",
    "def on_click(b):\n",
    "    with output:\n",
    "        clear_output()\n",
    "        query = text_input.value\n",
    "        if not query.strip():\n",
    "            print(\"Введите запрос\")\n",
    "            return\n",
    "        pred, conf = clf.predict([query])[0]\n",
    "        print(f\"Категория: {pred}, Уверенность: {conf:.2f}\")\n",
    "        if esc_agent.decide(conf):\n",
    "            print(\"Запрос передан оператору\")\n",
    "        else:\n",
    "            print(\"Автоматический ответ (RAG):\")\n",
    "            results = rag_agent.retrieve(query)\n",
    "            for i, ans in enumerate(results, 1):\n",
    "                print(f\"{i}. {ans[:200]}...\")\n",
    "\n",
    "button.on_click(on_click)\n",
    "display(text_input, button, output)\n"
   ]
  },
  {
   "cell_type": "code",
   "execution_count": null,
   "id": "6b38dd0b-07a4-4165-b59f-e37ca1f49ba6",
   "metadata": {},
   "outputs": [],
   "source": []
  },
  {
   "cell_type": "code",
   "execution_count": null,
   "id": "ec1da88e-0650-4c7b-8d87-179fa497a34b",
   "metadata": {},
   "outputs": [],
   "source": []
  }
 ],
 "metadata": {
  "kernelspec": {
   "display_name": "Python 3 (ipykernel)",
   "language": "python",
   "name": "python3"
  },
  "language_info": {
   "codemirror_mode": {
    "name": "ipython",
    "version": 3
   },
   "file_extension": ".py",
   "mimetype": "text/x-python",
   "name": "python",
   "nbconvert_exporter": "python",
   "pygments_lexer": "ipython3",
   "version": "3.13.0"
  }
 },
 "nbformat": 4,
 "nbformat_minor": 5
}
